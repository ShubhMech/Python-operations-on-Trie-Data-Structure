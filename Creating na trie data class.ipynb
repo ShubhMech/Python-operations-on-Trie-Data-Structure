{
 "cells": [
  {
   "cell_type": "code",
   "execution_count": 1,
   "id": "782ecbd8-465d-4ce9-a159-373612aa24d2",
   "metadata": {},
   "outputs": [],
   "source": [
    "class TrieNode:\n",
    "    def __init__(self):\n",
    "        self.children={}\n",
    "        self.eos= False"
   ]
  },
  {
   "cell_type": "code",
   "execution_count": 2,
   "id": "67917b3f-1d2e-4f1f-831f-c216fcd53d11",
   "metadata": {},
   "outputs": [],
   "source": [
    "class Trie:\n",
    "    def __init__(self):\n",
    "        self.root=TrieNode()"
   ]
  },
  {
   "cell_type": "code",
   "execution_count": 3,
   "id": "384cd19e-e4b7-489c-9591-f0f42ebcd8a1",
   "metadata": {},
   "outputs": [],
   "source": [
    "new= Trie()"
   ]
  },
  {
   "cell_type": "code",
   "execution_count": 4,
   "id": "8b9ca4d6-35f2-46c6-9eb3-0f5bc8b8d8c0",
   "metadata": {},
   "outputs": [
    {
     "data": {
      "text/plain": [
       "<__main__.TrieNode at 0x21ecd8fe610>"
      ]
     },
     "execution_count": 4,
     "metadata": {},
     "output_type": "execute_result"
    }
   ],
   "source": [
    "new.root"
   ]
  },
  {
   "cell_type": "code",
   "execution_count": 5,
   "id": "349831ba-b0af-4d6b-bfb5-750e5ff8c75a",
   "metadata": {},
   "outputs": [
    {
     "data": {
      "text/plain": [
       "{}"
      ]
     },
     "execution_count": 5,
     "metadata": {},
     "output_type": "execute_result"
    }
   ],
   "source": [
    "new.root.children"
   ]
  },
  {
   "cell_type": "code",
   "execution_count": 6,
   "id": "f3b1fafb-6052-4a6c-b9fa-c302f8beaca2",
   "metadata": {},
   "outputs": [
    {
     "data": {
      "text/plain": [
       "False"
      ]
     },
     "execution_count": 6,
     "metadata": {},
     "output_type": "execute_result"
    }
   ],
   "source": [
    "new.root.eos"
   ]
  },
  {
   "cell_type": "code",
   "execution_count": null,
   "id": "7f26a0d3-2d1f-420e-93ba-40763634b47e",
   "metadata": {},
   "outputs": [],
   "source": []
  }
 ],
 "metadata": {
  "kernelspec": {
   "display_name": "Python 3",
   "language": "python",
   "name": "python3"
  },
  "language_info": {
   "codemirror_mode": {
    "name": "ipython",
    "version": 3
   },
   "file_extension": ".py",
   "mimetype": "text/x-python",
   "name": "python",
   "nbconvert_exporter": "python",
   "pygments_lexer": "ipython3",
   "version": "3.8.5"
  }
 },
 "nbformat": 4,
 "nbformat_minor": 5
}
