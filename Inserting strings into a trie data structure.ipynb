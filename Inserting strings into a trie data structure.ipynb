{
 "cells": [
  {
   "cell_type": "code",
   "execution_count": 51,
   "id": "782ecbd8-465d-4ce9-a159-373612aa24d2",
   "metadata": {},
   "outputs": [],
   "source": [
    "class TrieNode:\n",
    "    def __init__(self):\n",
    "        self.children={}\n",
    "        self.eos= False"
   ]
  },
  {
   "cell_type": "code",
   "execution_count": 52,
   "id": "67917b3f-1d2e-4f1f-831f-c216fcd53d11",
   "metadata": {},
   "outputs": [],
   "source": [
    "class Trie:\n",
    "    def __init__(self):\n",
    "        self.root=TrieNode()"
   ]
  },
  {
   "cell_type": "code",
   "execution_count": 53,
   "id": "384cd19e-e4b7-489c-9591-f0f42ebcd8a1",
   "metadata": {},
   "outputs": [],
   "source": [
    "new = Trie()"
   ]
  },
  {
   "cell_type": "code",
   "execution_count": 54,
   "id": "8b9ca4d6-35f2-46c6-9eb3-0f5bc8b8d8c0",
   "metadata": {},
   "outputs": [
    {
     "data": {
      "text/plain": [
       "<__main__.TrieNode at 0x2699d30b970>"
      ]
     },
     "execution_count": 54,
     "metadata": {},
     "output_type": "execute_result"
    }
   ],
   "source": [
    "new.root"
   ]
  },
  {
   "cell_type": "code",
   "execution_count": 55,
   "id": "349831ba-b0af-4d6b-bfb5-750e5ff8c75a",
   "metadata": {},
   "outputs": [
    {
     "data": {
      "text/plain": [
       "{}"
      ]
     },
     "execution_count": 55,
     "metadata": {},
     "output_type": "execute_result"
    }
   ],
   "source": [
    "new.root.children"
   ]
  },
  {
   "cell_type": "code",
   "execution_count": 56,
   "id": "f3b1fafb-6052-4a6c-b9fa-c302f8beaca2",
   "metadata": {},
   "outputs": [
    {
     "data": {
      "text/plain": [
       "False"
      ]
     },
     "execution_count": 56,
     "metadata": {},
     "output_type": "execute_result"
    }
   ],
   "source": [
    "new.root.eos"
   ]
  },
  {
   "cell_type": "code",
   "execution_count": 57,
   "id": "7f26a0d3-2d1f-420e-93ba-40763634b47e",
   "metadata": {},
   "outputs": [],
   "source": [
    "def insert(new,word):\n",
    "    current=new.root\n",
    "    print(current.children)\n",
    "    for i in word:\n",
    "        ch= i\n",
    "        node= current.children.get(ch)\n",
    "        print(node)\n",
    "        \n",
    "        if node == None:\n",
    "            node= TrieNode()\n",
    "            current.children.update({ch:node})\n",
    "            print(current.children.keys())\n",
    "            \n",
    "        current= node\n",
    "        \n",
    "    \n",
    "    current.eos=True\n",
    "    print(\"Insertion Completed Successfully!\")\n",
    "        \n",
    "        \n",
    "               \n",
    "        "
   ]
  },
  {
   "cell_type": "code",
   "execution_count": 58,
   "id": "f30e216a-3cb6-40e4-831f-a9be2da51ce4",
   "metadata": {},
   "outputs": [
    {
     "name": "stdout",
     "output_type": "stream",
     "text": [
      "{}\n",
      "None\n",
      "dict_keys(['S'])\n",
      "None\n",
      "dict_keys(['h'])\n",
      "None\n",
      "dict_keys(['u'])\n",
      "None\n",
      "dict_keys(['b'])\n",
      "None\n",
      "dict_keys(['h'])\n",
      "None\n",
      "dict_keys(['a'])\n",
      "None\n",
      "dict_keys(['m'])\n",
      "Insertion Completed Successfully!\n"
     ]
    }
   ],
   "source": [
    "insert(new,\"Shubham\")"
   ]
  },
  {
   "cell_type": "code",
   "execution_count": 59,
   "id": "2f618201-7bf6-4121-98c5-e64598360a18",
   "metadata": {},
   "outputs": [
    {
     "data": {
      "text/plain": [
       "<__main__.TrieNode at 0x2699d30b970>"
      ]
     },
     "execution_count": 59,
     "metadata": {},
     "output_type": "execute_result"
    }
   ],
   "source": [
    "new.root"
   ]
  },
  {
   "cell_type": "code",
   "execution_count": 60,
   "id": "6393f208-3146-456e-963b-7f4c0b12b252",
   "metadata": {},
   "outputs": [
    {
     "data": {
      "text/plain": [
       "{'S': <__main__.TrieNode at 0x2699d32b190>}"
      ]
     },
     "execution_count": 60,
     "metadata": {},
     "output_type": "execute_result"
    }
   ],
   "source": [
    "new.root.children"
   ]
  },
  {
   "cell_type": "code",
   "execution_count": 61,
   "id": "b982fa56-c71e-4981-8a22-c043df4b2c0e",
   "metadata": {},
   "outputs": [
    {
     "data": {
      "text/plain": [
       "dict_values([<__main__.TrieNode object at 0x000002699D32B190>])"
      ]
     },
     "execution_count": 61,
     "metadata": {},
     "output_type": "execute_result"
    }
   ],
   "source": [
    "new.root.children.values()"
   ]
  },
  {
   "cell_type": "code",
   "execution_count": 62,
   "id": "37a2df91-34e1-46f0-8d17-de272fa905c5",
   "metadata": {},
   "outputs": [
    {
     "data": {
      "text/plain": [
       "NoneType"
      ]
     },
     "execution_count": 62,
     "metadata": {},
     "output_type": "execute_result"
    }
   ],
   "source": [
    "type(new.root.children.get('h'))"
   ]
  },
  {
   "cell_type": "code",
   "execution_count": null,
   "id": "4217447f-9466-4e00-8cb1-1616fa7ac354",
   "metadata": {},
   "outputs": [],
   "source": []
  }
 ],
 "metadata": {
  "kernelspec": {
   "display_name": "Python 3",
   "language": "python",
   "name": "python3"
  },
  "language_info": {
   "codemirror_mode": {
    "name": "ipython",
    "version": 3
   },
   "file_extension": ".py",
   "mimetype": "text/x-python",
   "name": "python",
   "nbconvert_exporter": "python",
   "pygments_lexer": "ipython3",
   "version": "3.8.5"
  }
 },
 "nbformat": 4,
 "nbformat_minor": 5
}
